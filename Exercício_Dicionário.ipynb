{
  "nbformat": 4,
  "nbformat_minor": 0,
  "metadata": {
    "colab": {
      "provenance": [],
      "include_colab_link": true
    },
    "kernelspec": {
      "name": "python3",
      "display_name": "Python 3"
    },
    "language_info": {
      "name": "python"
    }
  },
  "cells": [
    {
      "cell_type": "markdown",
      "metadata": {
        "id": "view-in-github",
        "colab_type": "text"
      },
      "source": [
        "<a href=\"https://colab.research.google.com/github/Miguellito02/Atividade_python/blob/main/Exerc%C3%ADcio_Dicion%C3%A1rio.ipynb\" target=\"_parent\"><img src=\"https://colab.research.google.com/assets/colab-badge.svg\" alt=\"Open In Colab\"/></a>"
      ]
    },
    {
      "cell_type": "markdown",
      "source": [
        "##1. Criação de Dicionário\n"
      ],
      "metadata": {
        "id": "-9w6XhmbvBGC"
      }
    },
    {
      "cell_type": "code",
      "execution_count": null,
      "metadata": {
        "id": "0youQ825u5oH",
        "colab": {
          "base_uri": "https://localhost:8080/"
        },
        "outputId": "5353b72c-e67d-491e-ec7b-f13d8d331a3f"
      },
      "outputs": [
        {
          "output_type": "execute_result",
          "data": {
            "text/plain": [
              "{'titulo': 'Como Treinar seu dragão',\n",
              " 'Diretor': 'Dean DeBlois',\n",
              " 'ano': 2010,\n",
              " 'genero': 'animação'}"
            ]
          },
          "metadata": {},
          "execution_count": 2
        }
      ],
      "source": [
        "filme = {\n",
        "    \"titulo\" : \"Como Treinar seu dragão\",\n",
        "    \"Diretor\" : \"Dean DeBlois\",\n",
        "    \"ano\": 2010,\n",
        "    \"genero\": \"animação\"\n",
        "}\n",
        "filme"
      ]
    },
    {
      "cell_type": "markdown",
      "source": [
        "##2. Acesso Seguro"
      ],
      "metadata": {
        "id": "qPNj1ch1w2G9"
      }
    },
    {
      "cell_type": "code",
      "source": [
        "filme[\"classificação\"] = \"Não Definido\"\n",
        "filme.get(\"classificação\")"
      ],
      "metadata": {
        "id": "7Wvg097ivzjc",
        "colab": {
          "base_uri": "https://localhost:8080/",
          "height": 35
        },
        "outputId": "5275af41-3348-49b9-d096-71c7a0f34d6d"
      },
      "execution_count": null,
      "outputs": [
        {
          "output_type": "execute_result",
          "data": {
            "text/plain": [
              "'Não Definido'"
            ],
            "application/vnd.google.colaboratory.intrinsic+json": {
              "type": "string"
            }
          },
          "metadata": {},
          "execution_count": 3
        }
      ]
    },
    {
      "cell_type": "markdown",
      "source": [
        "##3. Atualização de Dados"
      ],
      "metadata": {
        "id": "fYdM8UTiw0Nx"
      }
    },
    {
      "cell_type": "code",
      "source": [
        "filme[\"ano\"] = \"2024\"\n",
        "filme.get(\"ano\")\n",
        "\n",
        "filme[\"Duração\"] = \"98 Minutos\"\n",
        "filme.get(\"Duração\")\n",
        "\n",
        "print(filme)"
      ],
      "metadata": {
        "id": "RK9812hMw9tN"
      },
      "execution_count": null,
      "outputs": []
    },
    {
      "cell_type": "markdown",
      "source": [
        "##4. Remoção de Chave"
      ],
      "metadata": {
        "id": "ITpmR1s-xmsx"
      }
    },
    {
      "cell_type": "code",
      "source": [
        "del filme [\"genero\"]\n",
        "print(filme)"
      ],
      "metadata": {
        "id": "pO5Cv_gwxrh3",
        "colab": {
          "base_uri": "https://localhost:8080/"
        },
        "outputId": "c079518d-735a-4cf4-a021-ec32e5b83398"
      },
      "execution_count": null,
      "outputs": [
        {
          "output_type": "stream",
          "name": "stdout",
          "text": [
            "{'titulo': 'Como Treinar seu dragão', 'Diretor': 'Dean DeBlois', 'ano': 2010, 'classificação': 'Não Definido'}\n"
          ]
        }
      ]
    },
    {
      "cell_type": "markdown",
      "source": [
        "##5. Iteração Simples"
      ],
      "metadata": {
        "id": "8ZArQ1ecx3jY"
      }
    },
    {
      "cell_type": "code",
      "source": [
        "dados = {\n",
        "    \"Japão\": \"Tokyo\",\n",
        "    \"USA\": \"Washington\",\n",
        "    \"Italia\": \"Roma\"\n",
        "}\n",
        "\n",
        "for pais, capital in dados.items():\n",
        "    print(f\"O país {pais} tem como capital {capital}\")"
      ],
      "metadata": {
        "colab": {
          "base_uri": "https://localhost:8080/"
        },
        "id": "_wFM19HDx6MI",
        "outputId": "1bc8528f-e192-4514-c47b-11e85fb595b7"
      },
      "execution_count": null,
      "outputs": [
        {
          "output_type": "stream",
          "name": "stdout",
          "text": [
            "O país Japão tem como capital Tokyo\n",
            "O país USA tem como capital Washington\n",
            "O país Italia tem como capital Roma\n"
          ]
        }
      ]
    },
    {
      "cell_type": "markdown",
      "source": [
        "##6. Chaves, Valores e Itens\n"
      ],
      "metadata": {
        "id": "aInLknt2zB8l"
      }
    },
    {
      "cell_type": "code",
      "source": [
        "dados = {\n",
        "  \"Japão\":\"Tokyo\",\n",
        "  \"USA\":\"Washington\",\n",
        "  \"Italia\":\"Roma\"\n",
        "}\n",
        "\n",
        "\n",
        "for chaves in dados.values():\n",
        "  print(chaves)"
      ],
      "metadata": {
        "id": "qxPQiyTrzQtH",
        "colab": {
          "base_uri": "https://localhost:8080/"
        },
        "outputId": "ab54d7ad-266f-4673-c0ac-4719dc63437b"
      },
      "execution_count": null,
      "outputs": [
        {
          "output_type": "stream",
          "name": "stdout",
          "text": [
            "Tokyo\n",
            "Washington\n",
            "Roma\n"
          ]
        }
      ]
    },
    {
      "cell_type": "code",
      "source": [
        "for chave, valores in dados.items():\n",
        "  print(chave +\":\"+ valores)"
      ],
      "metadata": {
        "id": "xp1tG143oXuF",
        "outputId": "6743e8ca-0ae0-40e9-eeea-c22df8e85c33",
        "colab": {
          "base_uri": "https://localhost:8080/"
        }
      },
      "execution_count": null,
      "outputs": [
        {
          "output_type": "stream",
          "name": "stdout",
          "text": [
            "Japão:Tokyo\n",
            "USA:Washington\n",
            "Italia:Roma\n"
          ]
        }
      ]
    },
    {
      "cell_type": "markdown",
      "source": [
        "7. Lista de Dicionários"
      ],
      "metadata": {
        "id": "N_9LwTl5o-TF"
      }
    },
    {
      "cell_type": "code",
      "source": [
        "alunos = [\n",
        "    {\"nome\":\"Gabriel\",\"nota\":4},\n",
        "    {\"nome\":\"Miguel\",\"nota\":7},\n",
        "    {\"nome\":\"Kevin\",\"nota\":5}\n",
        "]\n",
        "\n",
        "for aluno in alunos:\n",
        "    if aluno[\"nota\"] >= 7:\n",
        "        print(aluno[\"nome\"],\":\", aluno[\"nota\"])\n"
      ],
      "metadata": {
        "id": "siBMtCcwpCBh"
      },
      "execution_count": null,
      "outputs": []
    },
    {
      "cell_type": "markdown",
      "source": [
        "8. Cadastro de Produtos"
      ],
      "metadata": {
        "id": "Ki0JcrKXrRKP"
      }
    },
    {
      "cell_type": "code",
      "source": [
        "produtos = {}\n",
        "\n",
        "for i in range(5):\n",
        "    nome = input(\"Digite o nome de um produto: \")\n",
        "    preco = float(input(f\"Digite o preço de {nome}: \"))\n",
        "    produtos[nome] = preco\n",
        "\n",
        "print(\"--------Produtos cadastrados--------:\")\n",
        "for nome, preco in produtos.items():\n",
        "    print(f\"{nome} R$ {preco}\")"
      ],
      "metadata": {
        "id": "mx_JO2nvrSbR"
      },
      "execution_count": null,
      "outputs": []
    },
    {
      "cell_type": "markdown",
      "source": [
        "9. Contagem de Frequência"
      ],
      "metadata": {
        "id": "b6YGHRJbu7II"
      }
    },
    {
      "cell_type": "code",
      "source": [
        "texto = 'banana maçã banana laranja maçã banana'\n",
        "palavras = texto.split()\n",
        "\n",
        "frequencia = {}\n",
        "for fruta in palavras:\n",
        "    if fruta in frequencia:\n",
        "        frequencia[fruta] += 1\n",
        "    else:\n",
        "        frequencia[fruta] = 1\n",
        "\n",
        "print(frequencia)"
      ],
      "metadata": {
        "id": "WLW7SI9uu9j_",
        "outputId": "cb4b0512-a238-4531-f608-9faec4a90ee8",
        "colab": {
          "base_uri": "https://localhost:8080/"
        }
      },
      "execution_count": null,
      "outputs": [
        {
          "output_type": "stream",
          "name": "stdout",
          "text": [
            "{'banana': 3, 'maçã': 2, 'laranja': 1}\n"
          ]
        }
      ]
    },
    {
      "cell_type": "markdown",
      "source": [
        "10. Desafio Extra"
      ],
      "metadata": {
        "id": "1-MxKyaox9R_"
      }
    },
    {
      "cell_type": "code",
      "source": [
        "cadastro = {}\n",
        "\n",
        "\n",
        "while True:\n",
        "  print(\"-------Menu-------: \")\n",
        "  print(\"1- Acrescentar Nome & Contato\")\n",
        "  print(\"2 - Sair\")\n",
        "\n",
        "  escolha = input(\"Escolha uma opção:\")\n",
        "\n",
        "  if escolha == \"1\":\n",
        "    user = input(\"Digite um nome: \")\n",
        "    phone = input(f'Digite o telefone de {user}')\n",
        "    cadastro[user] = phone\n",
        "\n",
        "\n",
        "  elif escolha == \"2\":\n",
        "    print(\"Saindo..\")\n",
        "    break\n",
        "\n",
        "\n",
        "  else:\n",
        "    print(\"Opção inválida\")\n",
        "\n",
        "\n",
        "print(cadastro)"
      ],
      "metadata": {
        "id": "xR9vWxllx_pS"
      },
      "execution_count": null,
      "outputs": []
    }
  ]
}